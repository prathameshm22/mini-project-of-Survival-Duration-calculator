{
 "cells": [
  {
   "cell_type": "code",
   "execution_count": 18,
   "id": "ecdd3b38",
   "metadata": {},
   "outputs": [
    {
     "name": "stdout",
     "output_type": "stream",
     "text": [
      "Enter your age :26\n",
      "Choose Duration Of Time in a :  Months, weeks, days,hours, minutes, seconds : weeks\n",
      "you lived 1248 weeks\n"
     ]
    }
   ],
   "source": [
    "# without function\n",
    "age = int(input(\"Enter your age :\"  ))  \n",
    "unit = str(input(\"Choose Duration Of Time in a :  Months, weeks, days,hours, minutes, seconds : \" )).lower()\n",
    "\n",
    "\n",
    "months = age *12 # here is creating formulas for calculate the duration of how long a person lived based on his Age\n",
    "weeks = months * 4\n",
    "days = age * 365\n",
    "hours = days * 24\n",
    "minutes = hours * 60\n",
    "seconds = minutes* 60\n",
    "\n",
    "if unit == 'months' or unit == 'm': # adding condtion for getting answer of the basis of months, weeks, days, hours, minutes, seconds\n",
    "    print(f'you lived  {months:,} months')\n",
    "elif unit == 'weeks' or unit =='w':\n",
    "    print(f'you lived {weeks} weeks')\n",
    "elif unit == 'days' or unit == 'd':\n",
    "    print(f\"you lived  {days:,} days \")\n",
    "elif unit == 'hours' or unit == 'h':\n",
    "    print(f\"you lived  {hours:,} hours \")\n",
    "elif unit == 'minutes' or unit == 'm':\n",
    "    print(f\"you lived  {minutes:,} minutes \")\n",
    "elif unit == 'seconds' or unit == 's':\n",
    "    print(f\"you lived {seconds:,} seconds \")\n",
    "else:    \n",
    "    print(\"your input this invalid\")"
   ]
  },
  {
   "cell_type": "code",
   "execution_count": 19,
   "id": "a3ff6f9a",
   "metadata": {},
   "outputs": [],
   "source": [
    "# with function\n",
    "def survival_calculator():\n",
    "    age = int(input(\"Entre Your age : \"))\n",
    "    unit = str(input(\"Choose Duration Of the Time in a : Months, Weeks, Days, Hour, Minutes, Seconds : \")).lower()\n",
    "    \n",
    "    months = age * 12\n",
    "    weeks = months * 4\n",
    "    Days = age * 365\n",
    "    hour = days * 24\n",
    "    minutes = hour * 60\n",
    "    seconds = minutes * 60\n",
    "    \n",
    "    if unit == 'months' or unit == 'm':\n",
    "        print(f\"you lived {months} months  \")\n",
    "    elif unit == 'weeks' or unit == 'w':\n",
    "        print(F\"you lived {weeks} weeks  \")\n",
    "    elif unit == 'days' or unit == 'd':\n",
    "        print(F\"you lived {days} days  \")\n",
    "    elif unit == 'Hour' or unit == 'h':\n",
    "        print(f\"you lived {Hour} hours  \")\n",
    "    elif unit == 'minutes' or unit == 'm':\n",
    "        print(f\"you lived {minutes} minutes  \")\n",
    "    elif unit == 'seconds'  or unit == 's':\n",
    "        print(f\"you lived {seconds} seconds  \")\n",
    "    else:\n",
    "        print('Your Input Is Not Vaild')\n",
    "    return  "
   ]
  },
  {
   "cell_type": "code",
   "execution_count": 20,
   "id": "4de20b4c",
   "metadata": {},
   "outputs": [
    {
     "name": "stdout",
     "output_type": "stream",
     "text": [
      "Entre Your age : 26\n",
      "Choose Duration Of the Time in a : Months, Weeks, Days, Hour, Minutes, Seconds : m\n",
      "you lived 312 months  \n"
     ]
    }
   ],
   "source": [
    "survival_calculator()"
   ]
  },
  {
   "cell_type": "code",
   "execution_count": null,
   "id": "1fe7b40e",
   "metadata": {},
   "outputs": [],
   "source": []
  },
  {
   "cell_type": "code",
   "execution_count": null,
   "id": "3e06b703",
   "metadata": {},
   "outputs": [],
   "source": []
  }
 ],
 "metadata": {
  "kernelspec": {
   "display_name": "Python 3 (ipykernel)",
   "language": "python",
   "name": "python3"
  },
  "language_info": {
   "codemirror_mode": {
    "name": "ipython",
    "version": 3
   },
   "file_extension": ".py",
   "mimetype": "text/x-python",
   "name": "python",
   "nbconvert_exporter": "python",
   "pygments_lexer": "ipython3",
   "version": "3.11.5"
  }
 },
 "nbformat": 4,
 "nbformat_minor": 5
}
